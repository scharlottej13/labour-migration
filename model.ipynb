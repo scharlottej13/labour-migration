{
 "cells": [
  {
   "cell_type": "markdown",
   "metadata": {},
   "source": [
    "#### include library code"
   ]
  },
  {
   "cell_type": "code",
   "execution_count": 1,
   "metadata": {},
   "outputs": [],
   "source": [
    "using Random\n",
    "using Plots\n",
    "using DataFrames\n",
    "using CSV"
   ]
  },
  {
   "cell_type": "markdown",
   "metadata": {},
   "source": [
    "#### define industries"
   ]
  },
  {
   "cell_type": "code",
   "execution_count": 2,
   "metadata": {},
   "outputs": [
    {
     "data": {
      "text/plain": [
       "Industry"
      ]
     },
     "execution_count": 2,
     "metadata": {},
     "output_type": "execute_result"
    }
   ],
   "source": [
    "mutable struct Industry\n",
    "    # number of jobs available\n",
    "    num_jobs :: Float64 #Int\n",
    "    # job hire rate\n",
    "    hirer :: Float64\n",
    "    # rate of job loss\n",
    "    firer :: Float64\n",
    "end\n",
    "\n",
    "# no jobs, no one is hired, no one loses their job\n",
    "Industry() = Industry(0,0,0)"
   ]
  },
  {
   "cell_type": "markdown",
   "metadata": {},
   "source": [
    "#### define countries"
   ]
  },
  {
   "cell_type": "code",
   "execution_count": 3,
   "metadata": {},
   "outputs": [
    {
     "data": {
      "text/plain": [
       "Country"
      ]
     },
     "execution_count": 3,
     "metadata": {},
     "output_type": "execute_result"
    }
   ],
   "source": [
    "mutable struct Country\n",
    "    migration_rate :: Float64\n",
    "    industries :: Vector{Industry}\n",
    "end\n",
    "\n",
    "# no one migrates, no industries\n",
    "Country() = Country(0,[])"
   ]
  },
  {
   "cell_type": "markdown",
   "metadata": {},
   "source": [
    "### define agents"
   ]
  },
  {
   "cell_type": "code",
   "execution_count": 4,
   "metadata": {},
   "outputs": [
    {
     "data": {
      "text/plain": [
       "ComplexHuman"
      ]
     },
     "execution_count": 4,
     "metadata": {},
     "output_type": "execute_result"
    }
   ],
   "source": [
    "mutable struct ComplexHuman\n",
    "    migrant :: Bool\n",
    "    employed :: Bool\n",
    "    industry :: Int\n",
    "    origin :: Country\n",
    "    residence :: Country\n",
    "    contacts :: Vector{ComplexHuman}\n",
    "end\n",
    "\n",
    "ComplexHuman() = ComplexHuman(false, true, 1, Country(), Country(), [])\n",
    "ComplexHuman(country) = ComplexHuman(false, true, 1, country, country, [])"
   ]
  },
  {
   "cell_type": "markdown",
   "metadata": {},
   "source": [
    "#### define simulation"
   ]
  },
  {
   "cell_type": "code",
   "execution_count": 5,
   "metadata": {},
   "outputs": [],
   "source": [
    "mutable struct Simulation\n",
    "    countries :: Vector{Country}\n",
    "    # communication rate between agents\n",
    "    commr :: Float64\n",
    "    # and this is our population of agents\n",
    "    pop :: Vector{ComplexHuman}\n",
    "end"
   ]
  },
  {
   "cell_type": "markdown",
   "metadata": {},
   "source": [
    "#### updating functions"
   ]
  },
  {
   "cell_type": "code",
   "execution_count": 6,
   "metadata": {},
   "outputs": [
    {
     "data": {
      "text/plain": [
       "update_migrants! (generic function with 1 method)"
      ]
     },
     "execution_count": 6,
     "metadata": {},
     "output_type": "execute_result"
    }
   ],
   "source": [
    "function update_migrant_status!(person, sim)\n",
    "    # for simplicity, we are not considering return migration\n",
    "    # you can only go from non-migrant to migrant status\n",
    "    if person.migrant == true\n",
    "        return\n",
    "    else\n",
    "        # check all of the non-migrants contacts\n",
    "        for contact in person.contacts\n",
    "            # if the contact is a migrant & employed & they communicate more than random\n",
    "            # then the person can become a migrant\n",
    "            if contact.migrant == true && contact.employed == true && rand() < sim.commr\n",
    "                person.migrant == true\n",
    "                # in a more complex version, could do this:\n",
    "                # person.residence == contact.residence\n",
    "                # for now, settle for random\n",
    "                person.residence == rand(person.contacts).residence\n",
    "            end\n",
    "        end\n",
    "    end\n",
    "end\n",
    "\n",
    "\n",
    "function update_migrant_employment!(person, sim)\n",
    "    # for simplicity, only change employment status of migrants\n",
    "    if person.migrant == false\n",
    "        return\n",
    "    else\n",
    "        if person.employed == true\n",
    "            # random, for simplicity, but could be empirically determined\n",
    "            if rand() < industry.firer\n",
    "                person.employed == false\n",
    "        else\n",
    "            for contact in person.contacts\n",
    "                if contact.migrant == true && contact.employed == true\n",
    "                    if rand() < industry.hirer\n",
    "                        person.employed == true\n",
    "                        # a person would be in the same industry as their contact\n",
    "                        # person.industry = contact.industry\n",
    "                        # but for simplicity:\n",
    "                        person.industry == rand(person.contacts).industry\n",
    "                    end\n",
    "                end\n",
    "            end\n",
    "        end\n",
    "    end\n",
    "end\n",
    "end\n",
    "\n",
    "\n",
    "function update!(agent, sim)\n",
    "    update_migrant_status!(agent, sim)\n",
    "    update_migrant_employment!(agent, sim)\n",
    "end\n",
    "\n",
    "\n",
    "function update_migrants!(sim)\n",
    "    # we need to change the order, otherwise agents at the beginning of the \n",
    "    # pop array will behave differently from those further in the back\n",
    "    order = shuffle(sim.pop)\n",
    "    for p in order\n",
    "        update!(p, sim)\n",
    "    end\n",
    "end"
   ]
  },
  {
   "cell_type": "markdown",
   "metadata": {},
   "source": [
    "#### setup functions"
   ]
  },
  {
   "cell_type": "code",
   "execution_count": 7,
   "metadata": {},
   "outputs": [
    {
     "data": {
      "text/plain": [
       "0.035"
      ]
     },
     "execution_count": 7,
     "metadata": {},
     "output_type": "execute_result"
    }
   ],
   "source": [
    "# job acquisition rate\n",
    "const HIRER = 0.8\n",
    "# job loss rate\n",
    "const FIRER = 0.06\n",
    "# ^^ should these sum to 1?\n",
    "# migration rate\n",
    "const MIGR = 0.035"
   ]
  },
  {
   "cell_type": "code",
   "execution_count": 8,
   "metadata": {},
   "outputs": [
    {
     "data": {
      "text/plain": [
       "scale_rate (generic function with 2 methods)"
      ]
     },
     "execution_count": 8,
     "metadata": {},
     "output_type": "execute_result"
    }
   ],
   "source": [
    "# to scale the rate *slightly* to improve stability\n",
    "scale_rate(rate, SCALAR::Float64 = 0.2) = rate + rand() * SCALAR - rand() * SCALAR"
   ]
  },
  {
   "cell_type": "code",
   "execution_count": 9,
   "metadata": {},
   "outputs": [
    {
     "data": {
      "text/plain": [
       "setup_industries! (generic function with 1 method)"
      ]
     },
     "execution_count": 9,
     "metadata": {},
     "output_type": "execute_result"
    }
   ],
   "source": [
    "function setup_industries!(n, num_jobs, country, HIRER, FIRER)\n",
    "    country.industries = [ \n",
    "        Industry(rand() * num_jobs, scale_rate(HIRER), scale_rate(FIRER))\n",
    "        for i=1:n ]\n",
    "end"
   ]
  },
  {
   "cell_type": "code",
   "execution_count": 11,
   "metadata": {},
   "outputs": [
    {
     "data": {
      "text/plain": [
       "setup_countries (generic function with 1 method)"
      ]
     },
     "execution_count": 11,
     "metadata": {},
     "output_type": "execute_result"
    }
   ],
   "source": [
    "function setup_countries(n, num_industries, num_jobs, MIGR, HIRER, FIRER)\n",
    "    countries = [ Country(scale_rate(MIGR), []) for i=1:n ]\n",
    "    for country in countries\n",
    "        setup_industries!(num_industries, num_jobs, country, HIRER, FIRER)\n",
    "    end\n",
    "    countries\n",
    "end"
   ]
  },
  {
   "cell_type": "code",
   "execution_count": 12,
   "metadata": {},
   "outputs": [
    {
     "data": {
      "text/plain": [
       "5-element Array{Country,1}:\n",
       " Country(0.044032173484808756, Industry[Industry(35.95199176197909, 0.9775947102554274, 0.040046490328846523), Industry(42.52178868259268, 0.7665114648888847, -0.038383566431338445), Industry(10.118658886197462, 0.8779494868434073, -0.004071486005225972), Industry(28.214707556455686, 0.763826183550874, 0.033989490127055016), Industry(48.08402998963114, 0.8264013567276474, 0.024172793070373316), Industry(0.8047185398658341, 0.9402523539728297, 0.1659317880784546), Industry(33.03426253729167, 0.793624061142452, 0.17949369673431526), Industry(15.606564891369423, 0.8406331929514884, 0.035332670242705866), Industry(29.29246317465185, 0.6953411033365804, -0.0678279085230055), Industry(28.26388480293773, 0.8242364646358111, -0.010082242131824445)])\n",
       " Country(0.12083740447799847, Industry[Industry(28.002791610996546, 0.7559162632526523, -0.03980466773782246), Industry(31.8197653850929, 0.7937952515146791, -0.002796003121585927), Industry(18.63209113714259, 0.733138240995971, 0.14938603226864483), Industry(23.56402414819698, 0.8788994957237668, 0.046302924899185915), Industry(40.21339992828741, 0.8627007664871046, 0.05717438440319053), Industry(0.5938251509149284, 0.7823940177175213, 0.21063083649104963), Industry(30.048622436548367, 0.684247525240509, 0.18605645569098492), Industry(12.344093211187356, 0.9198298214444453, 0.12839804107787506), Industry(12.895796551544603, 0.8922968380962146, 0.10172243207131915), Industry(45.679136013276334, 0.8783354012898731, 0.032509922113458406)])\n",
       " Country(0.13794361105282887, Industry[Industry(12.259848863611056, 0.8521597861000554, -0.0369969868744795), Industry(25.008349745332147, 0.8975552734540772, -0.07060663903362185), Industry(3.469460900620347, 0.7134433147064707, 0.06901988687480774), Industry(25.931070222417173, 0.7748792940288509, 0.0726826782613243), Industry(39.16292916619214, 0.6895178724941953, 0.01062335102852384), Industry(34.72308029562296, 0.7713695830735103, 0.027138232404845336), Industry(17.71907638514846, 0.7573146915617526, -0.1249803712322407), Industry(44.651390470499905, 0.8787890439794731, 0.023592168314914896), Industry(33.29286008148992, 0.7320999803827806, -0.061754711763794906), Industry(33.38790301047596, 0.7849252892878594, 0.02344571960090154)])\n",
       " Country(0.14163709203673322, Industry[Industry(44.01195245665329, 0.8103041792210787, 0.1976631393227053), Industry(24.37070909220671, 0.7288826706530587, 0.08071242934597542), Industry(39.90743635029796, 0.9158410483957597, -0.040588727437945255), Industry(49.96793090269088, 0.756890621842998, -0.07124206470769952), Industry(4.346563328187203, 0.6993219135491939, 0.07784312740231289), Industry(10.362376624669277, 0.8678962423317272, 0.13327863705119933), Industry(25.6867482316383, 0.7164590312023651, 0.18922890752286486), Industry(48.68706975237706, 0.7542475840588769, -0.011243199503955706), Industry(4.3028095313090375, 0.6550731011825042, 0.05809665808633943), Industry(49.69777105035546, 0.7247281495338626, 0.21808568142112586)])\n",
       " Country(-0.07653890726788308, Industry[Industry(21.36904937146754, 0.7523070119648767, 0.00927458512063642), Industry(13.720785912260169, 0.7742879420402501, 0.23397953814417916), Industry(39.71222814732057, 0.7037017160867377, -0.11172115055499182), Industry(9.606028399857314, 0.8742992742424481, 0.07418349887847495), Industry(3.645013059505875, 0.8718063597523908, -0.013295382299774186), Industry(32.11379638482853, 0.8593116337639856, 0.0885103987925536), Industry(34.67497217480216, 0.8519868762582422, -0.017922086879770455), Industry(8.446661868909189, 0.6829782415724895, 0.1166237215263659), Industry(5.16789930937972, 0.7949727522994431, 0.0467705107857634), Industry(34.77793641481423, 0.7812129443073073, -0.038860417176631024)])"
      ]
     },
     "execution_count": 12,
     "metadata": {},
     "output_type": "execute_result"
    }
   ],
   "source": [
    "# trying to debug, there's something wront w/ setup_countries I think\n",
    "setup_countries(5, 10, 50, MIGR, HIRER, FIRER)"
   ]
  },
  {
   "cell_type": "code",
   "execution_count": 13,
   "metadata": {},
   "outputs": [
    {
     "data": {
      "text/plain": [
       "setup_pop (generic function with 1 method)"
      ]
     },
     "execution_count": 13,
     "metadata": {},
     "output_type": "execute_result"
    }
   ],
   "source": [
    "# if we skip the `if rand() < p_contact` line,\n",
    "# all connections will be in eachother connections list \n",
    "# we could try to make a country-level probability contact\n",
    "# but it should be placed into the country struct then in the setup_coutry f'n\n",
    "# like `p_contact = rand()` and then loop somehow through it\n",
    "# would loop through the people and see if they are connected\n",
    "function setup_pop(n)\n",
    "    pop = [ ComplexHuman() for i=1:n ]\n",
    "    for i in eachindex(pop)\n",
    "        for j in i+1:length(pop)\n",
    "            if pop[i].origin == pop[j].origin\n",
    "                push!(pop[i].contacts, pop[j])\n",
    "                push!(pop[j].contacts, pop[i])\n",
    "            end\n",
    "        end\n",
    "    end\n",
    "    pop\n",
    "end"
   ]
  },
  {
   "cell_type": "code",
   "execution_count": null,
   "metadata": {},
   "outputs": [],
   "source": [
    "function pop_to_countries(pop, countries)\n",
    "    for i in lenght(pop)\n",
    "     pop[i].residence == rand(countries)\n",
    "    end\n",
    "end"
   ]
  },
  {
   "cell_type": "code",
   "execution_count": 14,
   "metadata": {},
   "outputs": [
    {
     "data": {
      "text/plain": [
       "setup_sim (generic function with 1 method)"
      ]
     },
     "execution_count": 14,
     "metadata": {},
     "output_type": "execute_result"
    }
   ],
   "source": [
    "function  setup_sim(;commr, N, num_jobs, num_industries, num_countries, seed)\n",
    "    # for reproducibility\n",
    "    Random.seed!(seed)\n",
    "\n",
    "    # create a population of agents\n",
    "    pop = setup_pop(N)\n",
    "    \n",
    "    # create our countries\n",
    "    # within each country a number of industries are created\n",
    "    countries = setup_countries(num_countries, num_industries, num_jobs, MIGR, HIRER, FIRER)\n",
    "    @assert countries != nothing\n",
    "    \n",
    "    # create a population of agents\n",
    "    pop = setup_pop(N) #should we change setup_pop coherently to work with countires..right?\n",
    "    pop = pop_to_countries(pop, countries)\n",
    "\n",
    "    # create a simulation object with parameter values\n",
    "    sim = Simulation(countries, commr, pop)\n",
    "\n",
    "end"
   ]
  },
  {
   "cell_type": "markdown",
   "metadata": {},
   "source": [
    "testing DFs"
   ]
  },
  {
   "cell_type": "code",
   "execution_count": null,
   "metadata": {},
   "outputs": [],
   "source": [
    "using DataFrames\n",
    "df = DataFrame(A = 1:4, B = [\"M\", \"F\", \"F\", \"M\"])\n",
    "\n",
    "push!(df, (5, \"x\"))"
   ]
  },
  {
   "cell_type": "code",
   "execution_count": null,
   "metadata": {},
   "outputs": [],
   "source": [
    "randstring(['M'; 'F'], 1)"
   ]
  },
  {
   "cell_type": "code",
   "execution_count": null,
   "metadata": {},
   "outputs": [],
   "source": [
    "rand(1:4)"
   ]
  },
  {
   "cell_type": "code",
   "execution_count": null,
   "metadata": {},
   "outputs": [],
   "source": [
    "for i in 1:5\n",
    "    push!(df,(rand(1:4), randstring(['M'; 'F'], 1)))\n",
    "end\n",
    "df"
   ]
  },
  {
   "cell_type": "code",
   "execution_count": 29,
   "metadata": {},
   "outputs": [
    {
     "name": "stderr",
     "output_type": "stream",
     "text": [
      "┌ Info: Precompiling StatsPlots [f3b207a7-027a-5e70-b257-86293d7955fd]\n",
      "└ @ Base loading.jl:1278\n"
     ]
    },
    {
     "data": {
      "image/svg+xml": [
       "<?xml version=\"1.0\" encoding=\"utf-8\"?>\n",
       "<svg xmlns=\"http://www.w3.org/2000/svg\" xmlns:xlink=\"http://www.w3.org/1999/xlink\" width=\"600\" height=\"400\" viewBox=\"0 0 2400 1600\">\n",
       "<defs>\n",
       "  <clipPath id=\"clip320\">\n",
       "    <rect x=\"0\" y=\"0\" width=\"2400\" height=\"1600\"/>\n",
       "  </clipPath>\n",
       "</defs>\n",
       "<path clip-path=\"url(#clip320)\" d=\"\n",
       "M0 1600 L2400 1600 L2400 0 L0 0  Z\n",
       "  \" fill=\"#ffffff\" fill-rule=\"evenodd\" fill-opacity=\"1\"/>\n",
       "<defs>\n",
       "  <clipPath id=\"clip321\">\n",
       "    <rect x=\"480\" y=\"0\" width=\"1681\" height=\"1600\"/>\n",
       "  </clipPath>\n",
       "</defs>\n",
       "<path clip-path=\"url(#clip320)\" d=\"\n",
       "M118.612 1486.45 L2352.76 1486.45 L2352.76 47.2441 L118.612 47.2441  Z\n",
       "  \" fill=\"#ffffff\" fill-rule=\"evenodd\" fill-opacity=\"1\"/>\n",
       "<defs>\n",
       "  <clipPath id=\"clip322\">\n",
       "    <rect x=\"118\" y=\"47\" width=\"2235\" height=\"1440\"/>\n",
       "  </clipPath>\n",
       "</defs>\n",
       "<polyline clip-path=\"url(#clip322)\" style=\"stroke:#000000; stroke-width:2; stroke-opacity:0.1; fill:none\" points=\"\n",
       "  181.843,1486.45 181.843,47.2441 \n",
       "  \"/>\n",
       "<polyline clip-path=\"url(#clip322)\" style=\"stroke:#000000; stroke-width:2; stroke-opacity:0.1; fill:none\" points=\"\n",
       "  708.763,1486.45 708.763,47.2441 \n",
       "  \"/>\n",
       "<polyline clip-path=\"url(#clip322)\" style=\"stroke:#000000; stroke-width:2; stroke-opacity:0.1; fill:none\" points=\"\n",
       "  1235.68,1486.45 1235.68,47.2441 \n",
       "  \"/>\n",
       "<polyline clip-path=\"url(#clip322)\" style=\"stroke:#000000; stroke-width:2; stroke-opacity:0.1; fill:none\" points=\"\n",
       "  1762.6,1486.45 1762.6,47.2441 \n",
       "  \"/>\n",
       "<polyline clip-path=\"url(#clip322)\" style=\"stroke:#000000; stroke-width:2; stroke-opacity:0.1; fill:none\" points=\"\n",
       "  2289.53,1486.45 2289.53,47.2441 \n",
       "  \"/>\n",
       "<polyline clip-path=\"url(#clip320)\" style=\"stroke:#000000; stroke-width:4; stroke-opacity:1; fill:none\" points=\"\n",
       "  118.612,1486.45 2352.76,1486.45 \n",
       "  \"/>\n",
       "<polyline clip-path=\"url(#clip320)\" style=\"stroke:#000000; stroke-width:4; stroke-opacity:1; fill:none\" points=\"\n",
       "  181.843,1486.45 181.843,1469.18 \n",
       "  \"/>\n",
       "<polyline clip-path=\"url(#clip320)\" style=\"stroke:#000000; stroke-width:4; stroke-opacity:1; fill:none\" points=\"\n",
       "  708.763,1486.45 708.763,1469.18 \n",
       "  \"/>\n",
       "<polyline clip-path=\"url(#clip320)\" style=\"stroke:#000000; stroke-width:4; stroke-opacity:1; fill:none\" points=\"\n",
       "  1235.68,1486.45 1235.68,1469.18 \n",
       "  \"/>\n",
       "<polyline clip-path=\"url(#clip320)\" style=\"stroke:#000000; stroke-width:4; stroke-opacity:1; fill:none\" points=\"\n",
       "  1762.6,1486.45 1762.6,1469.18 \n",
       "  \"/>\n",
       "<polyline clip-path=\"url(#clip320)\" style=\"stroke:#000000; stroke-width:4; stroke-opacity:1; fill:none\" points=\"\n",
       "  2289.53,1486.45 2289.53,1469.18 \n",
       "  \"/>\n",
       "<path clip-path=\"url(#clip320)\" d=\"M 0 0 M172.225 1543.18 L179.864 1543.18 L179.864 1516.82 L171.554 1518.49 L171.554 1514.23 L179.817 1512.56 L184.493 1512.56 L184.493 1543.18 L192.132 1543.18 L192.132 1547.12 L172.225 1547.12 L172.225 1543.18 Z\" fill=\"#000000\" fill-rule=\"evenodd\" fill-opacity=\"1\" /><path clip-path=\"url(#clip320)\" d=\"M 0 0 M703.416 1543.18 L719.736 1543.18 L719.736 1547.12 L697.791 1547.12 L697.791 1543.18 Q700.453 1540.43 705.037 1535.8 Q709.643 1531.15 710.824 1529.81 Q713.069 1527.28 713.949 1525.55 Q714.851 1523.79 714.851 1522.1 Q714.851 1519.34 712.907 1517.61 Q710.986 1515.87 707.884 1515.87 Q705.685 1515.87 703.231 1516.63 Q700.801 1517.4 698.023 1518.95 L698.023 1514.23 Q700.847 1513.09 703.301 1512.51 Q705.754 1511.93 707.791 1511.93 Q713.162 1511.93 716.356 1514.62 Q719.55 1517.31 719.55 1521.8 Q719.55 1523.93 718.74 1525.85 Q717.953 1527.74 715.847 1530.34 Q715.268 1531.01 712.166 1534.23 Q709.064 1537.42 703.416 1543.18 Z\" fill=\"#000000\" fill-rule=\"evenodd\" fill-opacity=\"1\" /><path clip-path=\"url(#clip320)\" d=\"M 0 0 M1239.93 1528.49 Q1243.29 1529.2 1245.16 1531.47 Q1247.06 1533.74 1247.06 1537.07 Q1247.06 1542.19 1243.54 1544.99 Q1240.02 1547.79 1233.54 1547.79 Q1231.37 1547.79 1229.05 1547.35 Q1226.76 1546.93 1224.31 1546.08 L1224.31 1541.56 Q1226.25 1542.7 1228.57 1543.28 Q1230.88 1543.86 1233.4 1543.86 Q1237.8 1543.86 1240.09 1542.12 Q1242.41 1540.38 1242.41 1537.07 Q1242.41 1534.02 1240.26 1532.31 Q1238.13 1530.57 1234.31 1530.57 L1230.28 1530.57 L1230.28 1526.73 L1234.49 1526.73 Q1237.94 1526.73 1239.77 1525.36 Q1241.6 1523.97 1241.6 1521.38 Q1241.6 1518.72 1239.7 1517.31 Q1237.83 1515.87 1234.31 1515.87 Q1232.39 1515.87 1230.19 1516.29 Q1227.99 1516.7 1225.35 1517.58 L1225.35 1513.42 Q1228.01 1512.68 1230.33 1512.31 Q1232.66 1511.93 1234.72 1511.93 Q1240.05 1511.93 1243.15 1514.37 Q1246.25 1516.77 1246.25 1520.89 Q1246.25 1523.76 1244.61 1525.75 Q1242.96 1527.72 1239.93 1528.49 Z\" fill=\"#000000\" fill-rule=\"evenodd\" fill-opacity=\"1\" /><path clip-path=\"url(#clip320)\" d=\"M 0 0 M1765.61 1516.63 L1753.81 1535.08 L1765.61 1535.08 L1765.61 1516.63 M1764.39 1512.56 L1770.27 1512.56 L1770.27 1535.08 L1775.2 1535.08 L1775.2 1538.97 L1770.27 1538.97 L1770.27 1547.12 L1765.61 1547.12 L1765.61 1538.97 L1750.01 1538.97 L1750.01 1534.46 L1764.39 1512.56 Z\" fill=\"#000000\" fill-rule=\"evenodd\" fill-opacity=\"1\" /><path clip-path=\"url(#clip320)\" d=\"M 0 0 M2279.8 1512.56 L2298.16 1512.56 L2298.16 1516.5 L2284.09 1516.5 L2284.09 1524.97 Q2285.1 1524.62 2286.12 1524.46 Q2287.14 1524.27 2288.16 1524.27 Q2293.95 1524.27 2297.33 1527.44 Q2300.71 1530.62 2300.71 1536.03 Q2300.71 1541.61 2297.23 1544.71 Q2293.76 1547.79 2287.44 1547.79 Q2285.27 1547.79 2283 1547.42 Q2280.75 1547.05 2278.34 1546.31 L2278.34 1541.61 Q2280.43 1542.74 2282.65 1543.3 Q2284.87 1543.86 2287.35 1543.86 Q2291.35 1543.86 2293.69 1541.75 Q2296.03 1539.64 2296.03 1536.03 Q2296.03 1532.42 2293.69 1530.31 Q2291.35 1528.21 2287.35 1528.21 Q2285.47 1528.21 2283.6 1528.62 Q2281.75 1529.04 2279.8 1529.92 L2279.8 1512.56 Z\" fill=\"#000000\" fill-rule=\"evenodd\" fill-opacity=\"1\" /><polyline clip-path=\"url(#clip322)\" style=\"stroke:#000000; stroke-width:2; stroke-opacity:0.1; fill:none\" points=\"\n",
       "  118.612,1445.72 2352.76,1445.72 \n",
       "  \"/>\n",
       "<polyline clip-path=\"url(#clip322)\" style=\"stroke:#000000; stroke-width:2; stroke-opacity:0.1; fill:none\" points=\"\n",
       "  118.612,766.846 2352.76,766.846 \n",
       "  \"/>\n",
       "<polyline clip-path=\"url(#clip322)\" style=\"stroke:#000000; stroke-width:2; stroke-opacity:0.1; fill:none\" points=\"\n",
       "  118.612,87.9763 2352.76,87.9763 \n",
       "  \"/>\n",
       "<polyline clip-path=\"url(#clip320)\" style=\"stroke:#000000; stroke-width:4; stroke-opacity:1; fill:none\" points=\"\n",
       "  118.612,1486.45 118.612,47.2441 \n",
       "  \"/>\n",
       "<polyline clip-path=\"url(#clip320)\" style=\"stroke:#000000; stroke-width:4; stroke-opacity:1; fill:none\" points=\"\n",
       "  118.612,1445.72 145.422,1445.72 \n",
       "  \"/>\n",
       "<polyline clip-path=\"url(#clip320)\" style=\"stroke:#000000; stroke-width:4; stroke-opacity:1; fill:none\" points=\"\n",
       "  118.612,766.846 145.422,766.846 \n",
       "  \"/>\n",
       "<polyline clip-path=\"url(#clip320)\" style=\"stroke:#000000; stroke-width:4; stroke-opacity:1; fill:none\" points=\"\n",
       "  118.612,87.9763 145.422,87.9763 \n",
       "  \"/>\n",
       "<path clip-path=\"url(#clip320)\" d=\"M 0 0 M50.9921 1428.44 L57.9597 1428.44 L66.7791 1451.95 L75.6448 1428.44 L82.6123 1428.44 L82.6123 1463 L78.0522 1463 L78.0522 1432.65 L69.1402 1456.35 L64.4411 1456.35 L55.5291 1432.65 L55.5291 1463 L50.9921 1463 L50.9921 1428.44 Z\" fill=\"#000000\" fill-rule=\"evenodd\" fill-opacity=\"1\" /><path clip-path=\"url(#clip320)\" d=\"M 0 0 M62.7513 749.566 L82.6123 749.566 L82.6123 753.501 L67.4272 753.501 L67.4272 763.686 L81.1309 763.686 L81.1309 767.621 L67.4272 767.621 L67.4272 784.126 L62.7513 784.126 L62.7513 749.566 Z\" fill=\"#000000\" fill-rule=\"evenodd\" fill-opacity=\"1\" /><path clip-path=\"url(#clip320)\" d=\"M 0 0 M82.1262 79.3305 L72.7513 91.9462 L82.6123 105.256 L77.5892 105.256 L70.0429 95.0711 L62.4967 105.256 L57.4736 105.256 L67.543 91.6915 L58.33 79.3305 L63.3532 79.3305 L70.2281 88.5666 L77.1031 79.3305 L82.1262 79.3305 Z\" fill=\"#000000\" fill-rule=\"evenodd\" fill-opacity=\"1\" /><polyline clip-path=\"url(#clip322)\" style=\"stroke:#009af9; stroke-width:4; stroke-opacity:1; fill:none\" points=\"\n",
       "  181.843,1445.72 708.763,766.846 1235.68,766.846 1762.6,1445.72 2289.53,87.9763 708.763,766.846 1235.68,766.846 1762.6,1445.72 1235.68,1445.72 \n",
       "  708.763,1445.72 1235.68,766.846 708.763,766.846 1762.6,766.846 \n",
       "  \"/>\n",
       "<path clip-path=\"url(#clip320)\" d=\"\n",
       "M1979.03 216.178 L2278.28 216.178 L2278.28 95.2176 L1979.03 95.2176  Z\n",
       "  \" fill=\"#ffffff\" fill-rule=\"evenodd\" fill-opacity=\"1\"/>\n",
       "<polyline clip-path=\"url(#clip320)\" style=\"stroke:#000000; stroke-width:4; stroke-opacity:1; fill:none\" points=\"\n",
       "  1979.03,216.178 2278.28,216.178 2278.28,95.2176 1979.03,95.2176 1979.03,216.178 \n",
       "  \"/>\n",
       "<polyline clip-path=\"url(#clip320)\" style=\"stroke:#009af9; stroke-width:4; stroke-opacity:1; fill:none\" points=\"\n",
       "  2003.85,155.698 2152.79,155.698 \n",
       "  \"/>\n",
       "<path clip-path=\"url(#clip320)\" d=\"M 0 0 M2191.46 175.385 Q2189.66 180.015 2187.94 181.427 Q2186.23 182.839 2183.36 182.839 L2179.96 182.839 L2179.96 179.274 L2182.46 179.274 Q2184.22 179.274 2185.19 178.44 Q2186.16 177.607 2187.34 174.505 L2188.1 172.561 L2177.62 147.052 L2182.13 147.052 L2190.23 167.329 L2198.34 147.052 L2202.85 147.052 L2191.46 175.385 Z\" fill=\"#000000\" fill-rule=\"evenodd\" fill-opacity=\"1\" /><path clip-path=\"url(#clip320)\" d=\"M 0 0 M2208.73 169.042 L2216.37 169.042 L2216.37 142.677 L2208.06 144.343 L2208.06 140.084 L2216.32 138.418 L2221 138.418 L2221 169.042 L2228.64 169.042 L2228.64 172.978 L2208.73 172.978 L2208.73 169.042 Z\" fill=\"#000000\" fill-rule=\"evenodd\" fill-opacity=\"1\" /></svg>\n"
      ]
     },
     "execution_count": 29,
     "metadata": {},
     "output_type": "execute_result"
    }
   ],
   "source": [
    "using StatsPlots\n",
    "gr()\n",
    "@df df plot(:A, :B)"
   ]
  },
  {
   "cell_type": "code",
   "execution_count": 15,
   "metadata": {},
   "outputs": [
    {
     "data": {
      "text/html": [
       "<table class=\"data-frame\"><thead><tr><th></th><th>status</th><th>country</th><th>employed</th><th>industry</th></tr><tr><th></th><th>Any</th><th>Any</th><th>Any</th><th>Any</th></tr></thead><tbody><p>0 rows × 4 columns</p></tbody></table>"
      ],
      "text/latex": [
       "\\begin{tabular}{r|cccc}\n",
       "\t& status & country & employed & industry\\\\\n",
       "\t\\hline\n",
       "\t& Any & Any & Any & Any\\\\\n",
       "\t\\hline\n",
       "\\end{tabular}\n"
      ],
      "text/plain": [
       "0×4 DataFrame\n"
      ]
     },
     "execution_count": 15,
     "metadata": {},
     "output_type": "execute_result"
    }
   ],
   "source": [
    "output = DataFrame(status = [], country = [],employed = [], industry=[])"
   ]
  },
  {
   "cell_type": "code",
   "execution_count": 16,
   "metadata": {},
   "outputs": [
    {
     "data": {
      "text/plain": [
       "run_sim (generic function with 2 methods)"
      ]
     },
     "execution_count": 16,
     "metadata": {},
     "output_type": "execute_result"
    }
   ],
   "source": [
    "function run_sim(sim, n_steps, verbose = true)\n",
    "    # we keep track of the numbers\n",
    "#     n_non_migrants = Int[]\n",
    "#     n_migrants = Int[]\n",
    "    # add dataframe for unemployed, employed, industry, etc.\n",
    "    # could use an array of arrays, depends on what we want to plot\n",
    "    # for the google\n",
    "    # could also produce data files as outputs\n",
    "    # arg = open(file_name, 'w')\n",
    "    # println(arg, stuff-to-write)\n",
    "    # within notebook, open file.jl\n",
    "    # use f'n include(), which reads julia code and executes\n",
    "    # run f'n w/ a couple args, get the data\n",
    "    # use notebook for displaying results\n",
    "\n",
    "    # simulation steps\n",
    "    for t in 1:n_steps\n",
    "        update_migrants!(sim)\n",
    "#         push!(n_migrants, count(p -> p.migrant == true, sim.pop))\n",
    "#         push!(n_non_migrants, count(p -> p.migrant == false, sim.pop))\n",
    "        for p in pop\n",
    "            push!(output, (output.status, pop[p].migrant, pop[p].residence,pop[p].employed, pop[p].industry))\n",
    "        # a bit of output\n",
    "        if verbose\n",
    "            println(t, \", \", n_migrants[end], \", \", n_non_migrants[end])\n",
    "            end\n",
    "        end\n",
    "    end\n",
    "       \n",
    "    # return the results (normalized by pop size)\n",
    "    n = length(sim.pop)\n",
    "    n_migrants./n, n_non_migrants./n\n",
    "end"
   ]
  },
  {
   "cell_type": "code",
   "execution_count": 17,
   "metadata": {},
   "outputs": [
    {
     "ename": "LoadError",
     "evalue": "MethodError: no method matching setup_pop(::Int64, ::Array{Country,1})\nClosest candidates are:\n  setup_pop(::Any) at In[13]:7",
     "output_type": "error",
     "traceback": [
      "MethodError: no method matching setup_pop(::Int64, ::Array{Country,1})\nClosest candidates are:\n  setup_pop(::Any) at In[13]:7",
      "",
      "Stacktrace:",
      " [1] setup_sim(; commr::Float64, N::Int64, num_jobs::Int64, num_industries::Int64, num_countries::Int64, seed::Int64) at .\\In[14]:14",
      " [2] top-level scope at In[17]:1",
      " [3] include_string(::Function, ::Module, ::String, ::String) at .\\loading.jl:1091",
      " [4] execute_code(::String, ::String) at C:\\Users\\panze\\.julia\\packages\\IJulia\\a1SNk\\src\\execute_request.jl:27",
      " [5] execute_request(::ZMQ.Socket, ::IJulia.Msg) at C:\\Users\\panze\\.julia\\packages\\IJulia\\a1SNk\\src\\execute_request.jl:86",
      " [6] #invokelatest#1 at .\\essentials.jl:710 [inlined]",
      " [7] invokelatest at .\\essentials.jl:709 [inlined]",
      " [8] eventloop(::ZMQ.Socket) at C:\\Users\\panze\\.julia\\packages\\IJulia\\a1SNk\\src\\eventloop.jl:8",
      " [9] (::IJulia.var\"#15#18\")() at .\\task.jl:356"
     ]
    }
   ],
   "source": [
    "sim = setup_sim(commr=0.2, N=1000, num_jobs=800, num_industries=10, num_countries=5, seed=42)\n",
    "migrants, non_migrants = run_sim(sim, 500)\n",
    "CSV.write(\"C:/Users/panze/Desktop/output.csv\", output)\n",
    "# Plots.plot([migrants, non_migrants], labels = [\"Migrants\" \"Non-Migrants\"])"
   ]
  },
  {
   "cell_type": "markdown",
   "metadata": {},
   "source": [
    "#### run"
   ]
  },
  {
   "cell_type": "markdown",
   "metadata": {},
   "source": [
    "FOR PLOT LOOK AT PLOT 0\n",
    "\n",
    "IN RUN FUNCTION CALCULATE AN ARRAY OF NUMBER OF INTERESTS AN PLOT THAT ONE."
   ]
  }
 ],
 "metadata": {
  "kernelspec": {
   "display_name": "Julia 1.5.2",
   "language": "julia",
   "name": "julia-1.5"
  },
  "language_info": {
   "file_extension": ".jl",
   "mimetype": "application/julia",
   "name": "julia",
   "version": "1.5.2"
  }
 },
 "nbformat": 4,
 "nbformat_minor": 4
}
