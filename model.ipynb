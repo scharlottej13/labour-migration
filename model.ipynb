{
 "cells": [
  {
   "cell_type": "markdown",
   "metadata": {},
   "source": [
    "#### include library code"
   ]
  },
  {
   "cell_type": "code",
   "execution_count": 1,
   "metadata": {},
   "outputs": [],
   "source": [
    "using Random"
   ]
  },
  {
   "cell_type": "markdown",
   "metadata": {},
   "source": [
    "#### define industries"
   ]
  },
  {
   "cell_type": "code",
   "execution_count": 2,
   "metadata": {},
   "outputs": [
    {
     "data": {
      "text/plain": [
       "Industry"
      ]
     },
     "execution_count": 2,
     "metadata": {},
     "output_type": "execute_result"
    }
   ],
   "source": [
    "mutable struct Industry\n",
    "    # number of jobs available\n",
    "    num_jobs :: Int\n",
    "    # job hire rate\n",
    "    hirer :: Float64\n",
    "    # rate of job loss\n",
    "    firer :: Float64\n",
    "end\n",
    "\n",
    "# no jobs, no one is hired, no one loses their job\n",
    "Industry() = Industry(0,0,0)"
   ]
  },
  {
   "cell_type": "markdown",
   "metadata": {},
   "source": [
    "#### define countries"
   ]
  },
  {
   "cell_type": "code",
   "execution_count": 3,
   "metadata": {},
   "outputs": [
    {
     "data": {
      "text/plain": [
       "Country"
      ]
     },
     "execution_count": 3,
     "metadata": {},
     "output_type": "execute_result"
    }
   ],
   "source": [
    "mutable struct Country\n",
    "    migration_rate :: Float64\n",
    "    industries :: Vector{Industry}\n",
    "end\n",
    "\n",
    "# no one migrates, no industries\n",
    "Country() = Country(0,[])"
   ]
  },
  {
   "cell_type": "markdown",
   "metadata": {},
   "source": [
    "### define agents"
   ]
  },
  {
   "cell_type": "code",
   "execution_count": 4,
   "metadata": {},
   "outputs": [
    {
     "data": {
      "text/plain": [
       "ComplexHuman"
      ]
     },
     "execution_count": 4,
     "metadata": {},
     "output_type": "execute_result"
    }
   ],
   "source": [
    "mutable struct ComplexHuman\n",
    "    migrant :: Bool\n",
    "    employed :: Bool\n",
    "    industry :: Int\n",
    "    origin :: Country\n",
    "    residence :: Country\n",
    "    contacts :: Vector{ComplexHuman}\n",
    "end\n",
    "\n",
    "ComplexHuman() = ComplexHuman(false, true, 1, Country(), Country(), [])"
   ]
  },
  {
   "cell_type": "markdown",
   "metadata": {},
   "source": [
    "#### define simulation"
   ]
  },
  {
   "cell_type": "code",
   "execution_count": 5,
   "metadata": {},
   "outputs": [],
   "source": [
    "mutable struct Simulation\n",
    "    countries :: Vector{Country}\n",
    "    # communication rate between agents\n",
    "    commr :: Float64\n",
    "    # and this is our population of agents\n",
    "    pop :: Vector{ComplexHuman}\n",
    "end"
   ]
  },
  {
   "cell_type": "markdown",
   "metadata": {},
   "source": [
    "#### updating functions"
   ]
  },
  {
   "cell_type": "code",
   "execution_count": 6,
   "metadata": {},
   "outputs": [
    {
     "data": {
      "text/plain": [
       "update_migrants! (generic function with 1 method)"
      ]
     },
     "execution_count": 6,
     "metadata": {},
     "output_type": "execute_result"
    }
   ],
   "source": [
    "function update_migrant_status!(person, sim)\n",
    "    # for simplicity, we are not considering return migration\n",
    "    # you can only go from non-migrant to migrant status\n",
    "    if person.migrant == true\n",
    "        return\n",
    "    else\n",
    "        # check all of the non-migrants contacts\n",
    "        for contact in person.contacts\n",
    "            # if the contact is a migrant & employed & they communicate more than random\n",
    "            # then the person can become a migrant\n",
    "            if contact.migrant == true && contact.employed == true && rand() < sim.commr\n",
    "                person.migrant == true\n",
    "                # in a more complex version, could do this:\n",
    "                # person.residence == contact.residence\n",
    "                # for now, settle for random\n",
    "                person.residence == rand(person.contacts).residence\n",
    "            end\n",
    "        end\n",
    "    end\n",
    "end\n",
    "\n",
    "\n",
    "function update_migrant_employment!(person, sim)\n",
    "    # for simplicity, only change employment status of migrants\n",
    "    if person.migrant == false\n",
    "        return\n",
    "    else\n",
    "        if person.employed == true\n",
    "            # random, for simplicity, but could be empirically determined\n",
    "            if rand() < industry.firer\n",
    "                person.employed == false\n",
    "        else\n",
    "            for contact in person.contacts\n",
    "                if contact.migrant == true && contact.employed == true\n",
    "                    if rand() < industry.hirer\n",
    "                        person.employed == true\n",
    "                        # a person would be in the same industry as their contact\n",
    "                        # person.industry = contact.industry\n",
    "                        # but for simplicity:\n",
    "                        person.industry == rand(person.contacts).industry\n",
    "                    end\n",
    "                end\n",
    "            end\n",
    "        end\n",
    "    end\n",
    "end\n",
    "end\n",
    "\n",
    "\n",
    "function update!(agent, sim)\n",
    "    update_migrant_status!(agent, sim)\n",
    "    update_migrant_employment!(agent, sim)\n",
    "end\n",
    "\n",
    "\n",
    "function update_migrants!(sim)\n",
    "    # we need to change the order, otherwise agents at the beginning of the \n",
    "    # pop array will behave differently from those further in the back\n",
    "    order = shuffle(sim.pop)\n",
    "    for p in order\n",
    "        update!(p, sim)\n",
    "    end\n",
    "end"
   ]
  },
  {
   "cell_type": "markdown",
   "metadata": {},
   "source": [
    "#### setup functions"
   ]
  },
  {
   "cell_type": "code",
   "execution_count": 7,
   "metadata": {},
   "outputs": [
    {
     "data": {
      "text/plain": [
       "0.035"
      ]
     },
     "execution_count": 7,
     "metadata": {},
     "output_type": "execute_result"
    }
   ],
   "source": [
    "# job acquisition rate\n",
    "const HIRER = 0.8\n",
    "# job loss rate\n",
    "const FIRER = 0.06\n",
    "# ^^ should these sum to 1?\n",
    "# migration rate\n",
    "const MIGR = 0.035"
   ]
  },
  {
   "cell_type": "code",
   "execution_count": 8,
   "metadata": {},
   "outputs": [
    {
     "data": {
      "text/plain": [
       "scale_rate (generic function with 2 methods)"
      ]
     },
     "execution_count": 8,
     "metadata": {},
     "output_type": "execute_result"
    }
   ],
   "source": [
    "# to scale the rate *slightly* to improve stability\n",
    "scale_rate(rate, SCALAR::Float64 = 0.2) = rate + rand() * SCALAR - rand() * SCALAR"
   ]
  },
  {
   "cell_type": "code",
   "execution_count": 9,
   "metadata": {},
   "outputs": [
    {
     "data": {
      "text/plain": [
       "setup_industries! (generic function with 1 method)"
      ]
     },
     "execution_count": 9,
     "metadata": {},
     "output_type": "execute_result"
    }
   ],
   "source": [
    "function setup_industries!(n, num_jobs, country, HIRER, FIRER)\n",
    "    country.industries = [ \n",
    "        Industry(rand() * num_jobs, scale_rate(HIRER), scale_rate(FIRER))\n",
    "        for i=1:n ]\n",
    "end"
   ]
  },
  {
   "cell_type": "code",
   "execution_count": 10,
   "metadata": {},
   "outputs": [
    {
     "data": {
      "text/plain": [
       "setup_countries (generic function with 1 method)"
      ]
     },
     "execution_count": 10,
     "metadata": {},
     "output_type": "execute_result"
    }
   ],
   "source": [
    "function setup_countries(n, num_industries, num_jobs, MIGR, HIRER, FIRER)\n",
    "    countries = [ Country(scale_rate(MIGR)) for i=1:n ]\n",
    "    for country in countries\n",
    "        setup_industries!(num_industries, num_jobs, country, HIRER, FIRER)\n",
    "    end\n",
    "end"
   ]
  },
  {
   "cell_type": "code",
   "execution_count": 11,
   "metadata": {},
   "outputs": [
    {
     "ename": "LoadError",
     "evalue": "MethodError: no method matching Country(::Float64)\nClosest candidates are:\n  Country(::Float64, !Matched::Array{Industry,1}) at In[3]:2\n  Country(::Any, !Matched::Any) at In[3]:2\n  Country() at In[3]:7",
     "output_type": "error",
     "traceback": [
      "MethodError: no method matching Country(::Float64)\nClosest candidates are:\n  Country(::Float64, !Matched::Array{Industry,1}) at In[3]:2\n  Country(::Any, !Matched::Any) at In[3]:2\n  Country() at In[3]:7",
      "",
      "Stacktrace:",
      " [1] (::var\"#3#4\"{Float64})(::Int64) at ./none:0",
      " [2] iterate at ./generator.jl:47 [inlined]",
      " [3] collect at ./array.jl:686 [inlined]",
      " [4] setup_countries(::Int64, ::Int64, ::Int64, ::Float64, ::Float64, ::Float64) at ./In[10]:2",
      " [5] top-level scope at In[11]:1",
      " [6] include_string(::Function, ::Module, ::String, ::String) at ./loading.jl:1091",
      " [7] execute_code(::String, ::String) at /Users/scharlottej13/.julia/packages/IJulia/a1SNk/src/execute_request.jl:27",
      " [8] execute_request(::ZMQ.Socket, ::IJulia.Msg) at /Users/scharlottej13/.julia/packages/IJulia/a1SNk/src/execute_request.jl:86",
      " [9] #invokelatest#1 at ./essentials.jl:710 [inlined]",
      " [10] invokelatest at ./essentials.jl:709 [inlined]",
      " [11] eventloop(::ZMQ.Socket) at /Users/scharlottej13/.julia/packages/IJulia/a1SNk/src/eventloop.jl:8",
      " [12] (::IJulia.var\"#15#18\")() at ./task.jl:356"
     ]
    }
   ],
   "source": [
    "# trying to debug, there's something wront w/ setup_countries I think\n",
    "setup_countries(5, 10, 50, MIGR, HIRER, FIRER)"
   ]
  },
  {
   "cell_type": "code",
   "execution_count": 12,
   "metadata": {},
   "outputs": [
    {
     "data": {
      "text/plain": [
       "setup_pop (generic function with 1 method)"
      ]
     },
     "execution_count": 12,
     "metadata": {},
     "output_type": "execute_result"
    }
   ],
   "source": [
    "# if we skip the `if rand() < p_contact` line,\n",
    "# all connections will be in eachother connections list \n",
    "# we could try to make a country-level probability contact\n",
    "# but it should be placed into the country struct then in the setup_coutry f'n\n",
    "# like `p_contact = rand()` and then loop somehow through it\n",
    "function setup_pop(n)\n",
    "    pop = [ ComplexHuman() for i=1:n ]\n",
    "    for i in eachindex(pop)\n",
    "        for j in i+1:length(pop)\n",
    "            if pop[i].origin == pop[j].origin\n",
    "                push!(pop[i].contacts, pop[j])\n",
    "                push!(pop[j].contacts, pop[i])\n",
    "            end\n",
    "        end\n",
    "    end\n",
    "end"
   ]
  },
  {
   "cell_type": "code",
   "execution_count": 13,
   "metadata": {},
   "outputs": [
    {
     "data": {
      "text/plain": [
       "setup_sim (generic function with 1 method)"
      ]
     },
     "execution_count": 13,
     "metadata": {},
     "output_type": "execute_result"
    }
   ],
   "source": [
    "function  setup_sim(;commr, N, num_jobs, num_industries, num_countries, seed)\n",
    "    # for reproducibility\n",
    "    Random.seed!(seed)\n",
    "\n",
    "    # create a population of agents\n",
    "    pop = setup_pop(N)\n",
    "    \n",
    "    # create our countries\n",
    "    # within each country a number of industries are created\n",
    "    countries = setup_countries(num_countries, num_industries, num_jobs, country, MIGR, HIRER, FIRER)\n",
    "\n",
    "    # create a simulation object with parameter values\n",
    "    sim = Simulation(countries, commr, pop)\n",
    "\n",
    "end"
   ]
  },
  {
   "cell_type": "code",
   "execution_count": 14,
   "metadata": {},
   "outputs": [
    {
     "data": {
      "text/plain": [
       "run_sim (generic function with 2 methods)"
      ]
     },
     "execution_count": 14,
     "metadata": {},
     "output_type": "execute_result"
    }
   ],
   "source": [
    "function run_sim(sim, n_steps, verbose = true)\n",
    "    # we keep track of the numbers\n",
    "    # TODO! Ask Martin if we can do something like this?\n",
    "    # n_migrants = Dict([(\"Employed\", []), (\"Unemployed\", []), (\"Industry\", [])])\n",
    "    n_non_migrants = Int[]\n",
    "    n_migrants = Int[]\n",
    "\n",
    "    # simulation steps\n",
    "    for t in 1:n_steps\n",
    "        update_migrants!(sim)\n",
    "        push!(n_migrants, count(p -> p.migrant == true, sim.pop))\n",
    "        push!(n_non_migrants, count(p -> p.migrant == false, sim.pop))\n",
    "        # a bit of output\n",
    "        if verbose\n",
    "            println(t, \", \", n_migrants[end], \", \", n_non_migrants[end])\n",
    "        end\n",
    "    end\n",
    "    \n",
    "    # return the results (normalized by pop size)\n",
    "    n = length(sim.pop)\n",
    "    n_migrants./n, n_non_migrants./n\n",
    "end"
   ]
  },
  {
   "cell_type": "code",
   "execution_count": 15,
   "metadata": {},
   "outputs": [
    {
     "ename": "LoadError",
     "evalue": "UndefVarError: country not defined",
     "output_type": "error",
     "traceback": [
      "UndefVarError: country not defined",
      "",
      "Stacktrace:",
      " [1] setup_sim(; commr::Float64, N::Int64, num_jobs::Int64, num_industries::Int64, num_countries::Int64, seed::Int64) at ./In[13]:10",
      " [2] top-level scope at In[15]:1",
      " [3] include_string(::Function, ::Module, ::String, ::String) at ./loading.jl:1091",
      " [4] execute_code(::String, ::String) at /Users/scharlottej13/.julia/packages/IJulia/a1SNk/src/execute_request.jl:27",
      " [5] execute_request(::ZMQ.Socket, ::IJulia.Msg) at /Users/scharlottej13/.julia/packages/IJulia/a1SNk/src/execute_request.jl:86",
      " [6] #invokelatest#1 at ./essentials.jl:710 [inlined]",
      " [7] invokelatest at ./essentials.jl:709 [inlined]",
      " [8] eventloop(::ZMQ.Socket) at /Users/scharlottej13/.julia/packages/IJulia/a1SNk/src/eventloop.jl:8",
      " [9] (::IJulia.var\"#15#18\")() at ./task.jl:356"
     ]
    }
   ],
   "source": [
    "sim = setup_sim(commr=0.2, N=1000, num_jobs=800, num_industries=10, num_countries=5, seed=42)\n",
    "migrants, non_migrants = run_sim(sim, 500)\n",
    "\n",
    "Plots.plot([migrants, non_migrants], labels = [\"Migrants\" \"Non-Migrants\"])"
   ]
  },
  {
   "cell_type": "markdown",
   "metadata": {},
   "source": [
    "#### run"
   ]
  },
  {
   "cell_type": "markdown",
   "metadata": {},
   "source": [
    "FOR PLOT LOOK AT PLOT 0\n",
    "\n",
    "IN RUN FUNCTION CALCULATE AN ARRAY OF NUMBER OF INTERESTS AN PLOT THAT ONE."
   ]
  }
 ],
 "metadata": {
  "kernelspec": {
   "display_name": "Julia 1.5.2",
   "language": "julia",
   "name": "julia-1.5"
  },
  "language_info": {
   "file_extension": ".jl",
   "mimetype": "application/julia",
   "name": "julia",
   "version": "1.5.2"
  }
 },
 "nbformat": 4,
 "nbformat_minor": 4
}
