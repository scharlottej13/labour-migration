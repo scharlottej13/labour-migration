{
 "cells": [
  {
   "cell_type": "markdown",
   "metadata": {},
   "source": [
    "#### include library code"
   ]
  },
  {
   "cell_type": "code",
   "execution_count": null,
   "metadata": {},
   "outputs": [],
   "source": [
    "using Random"
   ]
  },
  {
   "cell_type": "markdown",
   "metadata": {},
   "source": [
    "#### define agents"
   ]
  },
  {
   "cell_type": "code",
   "execution_count": null,
   "metadata": {},
   "outputs": [],
   "source": [
    "mutable struct ComplexHuman\n",
    "    # var :: type\n",
    "    migrant :: Bool\n",
    "    employed :: Bool\n",
    "    industry :: Int\n",
    "    origin :: Country\n",
    "    residence :: Country\n",
    "    contacts :: Vector{ComplexHuman}\n",
    "end"
   ]
  },
  {
   "cell_type": "markdown",
   "metadata": {},
   "source": [
    "#### define countries"
   ]
  },
  {
   "cell_type": "code",
   "execution_count": null,
   "metadata": {},
   "outputs": [],
   "source": [
    "mutable struct Country\n",
    "    # this rate w/ be used in migration decision\n",
    "    migration_rate :: Float64 # or should it be in the simulation structure?\n",
    "    job_market :: Int\n",
    "    hirer :: Float64\n",
    "end"
   ]
  },
  {
   "cell_type": "markdown",
   "metadata": {},
   "source": [
    "#### define industries and job market"
   ]
  },
  {
   "cell_type": "code",
   "execution_count": null,
   "metadata": {},
   "outputs": [],
   "source": [
    "mutable struct Industry\n",
    "    num_jobs :: num_jobs\n",
    "     # job hire rate\n",
    "    hirer :: Float64\n",
    "    # being fired\n",
    "    firer :: Float64\n",
    "    # communication rate\n",
    "    commr :: Float64\n",
    "end"
   ]
  },
  {
   "cell_type": "markdown",
   "metadata": {},
   "source": [
    "#### define simulation\n",
    "---\n",
    "but I'm not sure it's what we would like to have\n",
    "***\n",
    "Actually I'm quite sure not, but I don't know how to turn *this* into the simulation we'd like to have\n"
   ]
  },
  {
   "cell_type": "code",
   "execution_count": 3,
   "metadata": {},
   "outputs": [],
   "source": [
    "mutable struct Simulation{AGENT}\n",
    "    # model parameters:\n",
    "    # job hire rate\n",
    "    hirer :: Float64\n",
    "    # being fired\n",
    "    firer :: Float64\n",
    "    # communication rate\n",
    "    commr :: Float64\n",
    "    # and this is our population of agents\n",
    "    pop :: Vector{AGENT}\n",
    "end"
   ]
  },
  {
   "cell_type": "markdown",
   "metadata": {},
   "source": [
    "#### updating functions"
   ]
  },
  {
   "cell_type": "code",
   "execution_count": null,
   "metadata": {
    "jupyter": {
     "source_hidden": true
    }
   },
   "outputs": [],
   "source": [
    "function update_migrant_status!(person, sim)\n",
    "     if person.migrant == true\n",
    "        return\n",
    "    end\n",
    "    if person.migrant == false\n",
    "        if person.contacts.migrant == true && person.contacts.employed >= \"friends_employment_rate\" && rand() < sim.commr\n",
    "#             ...I'd like to check how many of contacts are employed. if greater then a certain amount THEN\n",
    "            person.migrant == true\n",
    "            person.residence == # lo stesso degli amichetti suoi\n",
    "        end\n",
    "    end\n",
    "end\n",
    "\n",
    "\n",
    "\n",
    "function update_migrant_employment!(person, sim)\n",
    "    if person.employed == true\n",
    "        return\n",
    "    end\n",
    "    if person.employed == false\n",
    "        if person.contacts.migrant == true && person.contacts.employed == true && person.contacts.industry # are employed in a certain jobmarket with a rate higher than a certain amount THEN\n",
    "            if rand()< industry.hire.rate # same industry of his friends\n",
    "            person.employed == true\n",
    "            person.industry == # same industry of his friends\n",
    "        end\n",
    "    end\n",
    "    function update_labour_market!()\n",
    "        end\n",
    "    end\n",
    "end\n",
    "\n",
    "\n",
    "function update_job_market!()  # needs to be like hey no more jobs --- you can't get these jobs they're gone\n",
    "    for i in length(pop):\n",
    "        if pop[i].employed == false\n",
    "            return\n",
    "        end\n",
    "        if pop[i].employed == true\n",
    "            Industry.num_jobs += 1\n",
    "        end\n",
    "    end\n",
    "end"
   ]
  },
  {
   "cell_type": "markdown",
   "metadata": {},
   "source": [
    "#### setup functions"
   ]
  },
  {
   "cell_type": "code",
   "execution_count": null,
   "metadata": {},
   "outputs": [],
   "source": [
    "function setup_industries(n, p_contact)\n",
    "    industries = [ Industry() for i=1:n ]\n",
    "\n",
    "    # go through all combinations of agents and \n",
    "    # check if they are connected\n",
    "    for i in eachindex(pop)\n",
    "        for j in i+1:length(pop)\n",
    "            if rand() < p_contact\n",
    "                push!(pop[i].contacts, pop[j])\n",
    "                push!(pop[j].contacts, pop[i])\n",
    "            end\n",
    "        end\n",
    "    end\n",
    "\n",
    "    pop\n",
    "end"
   ]
  },
  {
   "cell_type": "markdown",
   "metadata": {},
   "source": [
    "#### run"
   ]
  },
  {
   "cell_type": "code",
   "execution_count": null,
   "metadata": {},
   "outputs": [],
   "source": []
  }
 ],
 "metadata": {
  "kernelspec": {
   "display_name": "Julia 1.5.1",
   "language": "julia",
   "name": "julia-1.5"
  },
  "language_info": {
   "file_extension": ".jl",
   "mimetype": "application/julia",
   "name": "julia",
   "version": "1.5.1"
  }
 },
 "nbformat": 4,
 "nbformat_minor": 4
}
