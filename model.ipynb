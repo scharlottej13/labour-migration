{
 "cells": [
  {
   "cell_type": "markdown",
   "metadata": {},
   "source": [
    "#### include library code"
   ]
  },
  {
   "cell_type": "code",
   "execution_count": 1,
   "metadata": {},
   "outputs": [],
   "source": [
    "using Random\n",
    "using Plots\n",
    "using DataFrames\n",
    "using CSV\n",
    "using StatsPlots"
   ]
  },
  {
   "cell_type": "markdown",
   "metadata": {},
   "source": [
    "#### define industries"
   ]
  },
  {
   "cell_type": "code",
   "execution_count": 2,
   "metadata": {},
   "outputs": [
    {
     "data": {
      "text/plain": [
       "Industry"
      ]
     },
     "execution_count": 2,
     "metadata": {},
     "output_type": "execute_result"
    }
   ],
   "source": [
    "mutable struct Industry\n",
    "    # number of jobs available\n",
    "    num_jobs :: Float64 #Int\n",
    "    # job hire rate\n",
    "    hirer :: Float64\n",
    "    # rate of job loss\n",
    "    firer :: Float64\n",
    "end\n",
    "\n",
    "# no jobs, no one is hired, no one loses their job\n",
    "Industry() = Industry(0,0,0)"
   ]
  },
  {
   "cell_type": "markdown",
   "metadata": {},
   "source": [
    "#### define countries"
   ]
  },
  {
   "cell_type": "code",
   "execution_count": 3,
   "metadata": {},
   "outputs": [
    {
     "data": {
      "text/plain": [
       "Country"
      ]
     },
     "execution_count": 3,
     "metadata": {},
     "output_type": "execute_result"
    }
   ],
   "source": [
    "mutable struct Country\n",
    "    migration_rate :: Float64\n",
    "    industries :: Vector{Industry}\n",
    "end\n",
    "\n",
    "# no one migrates, no industries\n",
    "Country() = Country(0,[])"
   ]
  },
  {
   "cell_type": "markdown",
   "metadata": {},
   "source": [
    "### define agents"
   ]
  },
  {
   "cell_type": "code",
   "execution_count": 4,
   "metadata": {},
   "outputs": [
    {
     "data": {
      "text/plain": [
       "ComplexHuman"
      ]
     },
     "execution_count": 4,
     "metadata": {},
     "output_type": "execute_result"
    }
   ],
   "source": [
    "mutable struct ComplexHuman\n",
    "    migrant :: Bool\n",
    "    employed :: Bool\n",
    "    industry :: Int\n",
    "    origin :: Country\n",
    "    residence :: Country\n",
    "    contacts :: Vector{ComplexHuman}\n",
    "end\n",
    "\n",
    "ComplexHuman() = ComplexHuman(false, true, 1, Country(), Country(), [])\n",
    "ComplexHuman(country) = ComplexHuman(false, true, 1, country, country, [])"
   ]
  },
  {
   "cell_type": "markdown",
   "metadata": {},
   "source": [
    "#### define simulation"
   ]
  },
  {
   "cell_type": "code",
   "execution_count": 5,
   "metadata": {},
   "outputs": [],
   "source": [
    "mutable struct Simulation\n",
    "    countries :: Vector{Country}\n",
    "    # communication rate between agents\n",
    "    commr :: Float64\n",
    "    # and this is our population of agents\n",
    "    pop :: Vector{ComplexHuman}\n",
    "end"
   ]
  },
  {
   "cell_type": "markdown",
   "metadata": {},
   "source": [
    "#### updating functions"
   ]
  },
  {
   "cell_type": "code",
   "execution_count": 6,
   "metadata": {},
   "outputs": [
    {
     "data": {
      "text/plain": [
       "update_migrants! (generic function with 1 method)"
      ]
     },
     "execution_count": 6,
     "metadata": {},
     "output_type": "execute_result"
    }
   ],
   "source": [
    "function update_migrant_status!(person, sim)\n",
    "    # for simplicity, we are not considering return migration\n",
    "    # you can only go from non-migrant to migrant status\n",
    "    if person.migrant == true\n",
    "        return\n",
    "    else\n",
    "        # check all of the non-migrants contacts\n",
    "        for contact in person.contacts\n",
    "            # if the contact is a migrant & employed & they communicate more than random\n",
    "            # then the person can become a migrant\n",
    "            if contact.migrant == true && contact.employed == true && rand() < sim.commr\n",
    "                person.migrant == true\n",
    "                # in a more complex version, could do this:\n",
    "                # person.residence == contact.residence\n",
    "                # for now, settle for random\n",
    "                person.residence == rand(person.contacts).residence\n",
    "            end\n",
    "        end\n",
    "    end\n",
    "end\n",
    "\n",
    "\n",
    "function update_migrant_employment!(person, sim)\n",
    "    # for simplicity, only change employment status of migrants\n",
    "    if person.migrant == false\n",
    "        return\n",
    "    else\n",
    "        if person.employed == true\n",
    "            # random, for simplicity, but could be empirically determined\n",
    "            if rand() < industry.firer\n",
    "                person.employed == false\n",
    "        else\n",
    "            for contact in person.contacts\n",
    "                if contact.migrant == true && contact.employed == true\n",
    "                    if rand() < industry.hirer\n",
    "                        person.employed == true\n",
    "                        # a person would be in the same industry as their contact\n",
    "                        # person.industry = contact.industry\n",
    "                        # but for simplicity:\n",
    "                        person.industry == rand(person.contacts).industry\n",
    "                    end\n",
    "                end\n",
    "            end\n",
    "        end\n",
    "    end\n",
    "end\n",
    "end\n",
    "\n",
    "\n",
    "function update!(agent, sim)\n",
    "    update_migrant_status!(agent, sim)\n",
    "    update_migrant_employment!(agent, sim)\n",
    "end\n",
    "\n",
    "\n",
    "function update_migrants!(sim)\n",
    "    # we need to change the order, otherwise agents at the beginning of the \n",
    "    # pop array will behave differently from those further in the back\n",
    "    order = shuffle(sim.pop)\n",
    "    for p in order\n",
    "        update!(p, sim)\n",
    "    end\n",
    "end"
   ]
  },
  {
   "cell_type": "markdown",
   "metadata": {},
   "source": [
    "#### setup functions"
   ]
  },
  {
   "cell_type": "code",
   "execution_count": 7,
   "metadata": {},
   "outputs": [
    {
     "data": {
      "text/plain": [
       "0.035"
      ]
     },
     "execution_count": 7,
     "metadata": {},
     "output_type": "execute_result"
    }
   ],
   "source": [
    "# job acquisition rate\n",
    "const HIRER = 0.8\n",
    "# job loss rate\n",
    "const FIRER = 0.06\n",
    "# ^^ should these sum to 1?\n",
    "# migration rate\n",
    "const MIGR = 0.035"
   ]
  },
  {
   "cell_type": "code",
   "execution_count": 8,
   "metadata": {},
   "outputs": [
    {
     "data": {
      "text/plain": [
       "scale_rate (generic function with 2 methods)"
      ]
     },
     "execution_count": 8,
     "metadata": {},
     "output_type": "execute_result"
    }
   ],
   "source": [
    "# to scale the rate *slightly* to improve stability\n",
    "scale_rate(rate, SCALAR::Float64 = 0.2) = rate + rand() * SCALAR - rand() * SCALAR"
   ]
  },
  {
   "cell_type": "code",
   "execution_count": 9,
   "metadata": {},
   "outputs": [
    {
     "data": {
      "text/plain": [
       "setup_industries! (generic function with 1 method)"
      ]
     },
     "execution_count": 9,
     "metadata": {},
     "output_type": "execute_result"
    }
   ],
   "source": [
    "function setup_industries!(n, num_jobs, country, HIRER, FIRER)\n",
    "    country.industries = [ \n",
    "        Industry(floor(Int, rand() * num_jobs), scale_rate(HIRER), scale_rate(FIRER))\n",
    "        for i=1:n ]\n",
    "end"
   ]
  },
  {
   "cell_type": "code",
   "execution_count": 10,
   "metadata": {},
   "outputs": [
    {
     "data": {
      "text/plain": [
       "setup_countries (generic function with 1 method)"
      ]
     },
     "execution_count": 10,
     "metadata": {},
     "output_type": "execute_result"
    }
   ],
   "source": [
    "function setup_countries(n, num_industries, num_jobs, MIGR, HIRER, FIRER)\n",
    "    countries = [ Country(scale_rate(MIGR), []) for i=1:n ]\n",
    "    for country in countries\n",
    "        setup_industries!(num_industries, num_jobs, country, HIRER, FIRER)\n",
    "    end\n",
    "    countries\n",
    "end"
   ]
  },
  {
   "cell_type": "code",
   "execution_count": 11,
   "metadata": {},
   "outputs": [
    {
     "data": {
      "text/plain": [
       "5-element Array{Country,1}:\n",
       " Country(0.008306451974803591, Industry[Industry(18.0, 0.7002085280463329, 0.018393943513951058), Industry(23.0, 0.8800603891901653, 0.0754571296901134), Industry(39.0, 0.835523938559364, 0.08537279433624487), Industry(23.0, 0.7565200262825837, 0.10720395516151437), Industry(32.0, 0.9019496829502008, 0.05710793576110623), Industry(5.0, 0.8267566230866487, 0.07279667962088968), Industry(0.0, 0.8804174708346115, 0.015380884572308406), Industry(24.0, 0.8046773613822111, 0.015478691561251728), Industry(8.0, 0.7247992679650807, -0.07113222397580332), Industry(6.0, 0.8840957683760429, 0.028673183384401446)])\n",
       " Country(0.028268950210791337, Industry[Industry(22.0, 0.8230708974536993, -0.012758635770707391), Industry(35.0, 0.7087643667217421, 0.032670853230848784), Industry(3.0, 0.8083222000692085, 0.05314094192282401), Industry(27.0, 0.788573502790682, 0.1418953008577715), Industry(40.0, 0.8309301377894263, 0.1387431900254794), Industry(39.0, 0.7693653674782406, -0.015613265588786174), Industry(11.0, 0.7151217635673434, 0.03211785285772263), Industry(6.0, 0.83518857780888, -0.03935726302482269), Industry(8.0, 0.7380366836636292, 0.13238104765490136), Industry(3.0, 0.6734246124554282, -0.0023745032481641004)])\n",
       " Country(-0.060333387617508324, Industry[Industry(26.0, 0.9890973435910343, 0.05874069211634278), Industry(23.0, 0.7593999432548908, 0.05056067848580302), Industry(26.0, 0.8031057032339691, 0.10536886177859504), Industry(10.0, 0.7715682995636388, -0.08240238653921199), Industry(33.0, 0.7877990990456449, -0.01503691398749643), Industry(28.0, 0.7627221696242301, 0.20240622550510376), Industry(36.0, 0.7365038241326193, -0.027378785779079498), Industry(37.0, 0.8693810830795614, 0.18547455233068938), Industry(17.0, 0.6570259611279546, 0.11247063584582033), Industry(7.0, 0.7944922877690994, 0.15976600064231575)])\n",
       " Country(0.15061323152672576, Industry[Industry(4.0, 0.9057722669270193, 0.103588022538716), Industry(10.0, 0.7894060461567964, 0.11441215876938142), Industry(32.0, 0.6628715930138555, -0.019145074359518385), Industry(37.0, 0.8720595703012745, -0.11803332145461833), Industry(38.0, 0.9239891152188209, 0.07080775929043143), Industry(13.0, 0.8628707263892117, 0.18629872499724012), Industry(14.0, 0.8146852407161675, -0.09002157565334097), Industry(11.0, 0.8585604704365901, -0.04117131782074962), Industry(28.0, 0.8069587858656813, 0.08985590066456157), Industry(40.0, 0.8973623617001717, 0.11412136287900529)])\n",
       " Country(-0.011039513799773387, Industry[Industry(47.0, 0.8421404140899237, 0.03524625950815298), Industry(46.0, 0.754301857814474, -0.012858356464151843), Industry(37.0, 0.7452605171296709, 0.08081525734273307), Industry(26.0, 0.8236196020484196, 0.023910491477784374), Industry(45.0, 0.8654409288221729, 0.09369370676088262), Industry(37.0, 0.8906040099585579, 0.19632337512757814), Industry(32.0, 0.7473023619147163, 0.09349925867642442), Industry(26.0, 0.8756068790796945, -0.04773970395817037), Industry(29.0, 0.8259427432043808, -0.031095834260165323), Industry(19.0, 0.7182741409148938, -0.039615577498827825)])"
      ]
     },
     "execution_count": 11,
     "metadata": {},
     "output_type": "execute_result"
    }
   ],
   "source": [
    "# trying to debug, there's something wront w/ setup_countries I think\n",
    "setup_countries(5, 10, 50, MIGR, HIRER, FIRER)"
   ]
  },
  {
   "cell_type": "code",
   "execution_count": 12,
   "metadata": {},
   "outputs": [
    {
     "data": {
      "text/plain": [
       "setup_pop (generic function with 3 methods)"
      ]
     },
     "execution_count": 12,
     "metadata": {},
     "output_type": "execute_result"
    }
   ],
   "source": [
    "# if we skip the `if rand() < p_contact` line,\n",
    "# all connections will be in eachother connections list \n",
    "# we could try to make a country-level probability contact\n",
    "# but it should be placed into the country struct then in the setup_coutry f'n\n",
    "# like `p_contact = rand()` and then loop somehow through it\n",
    "# would loop through the people and see if they are connected\n",
    "function setup_pop(n, num_countries)\n",
    "    pop = [ ComplexHuman() for i=1:n ]\n",
    "    for i in eachindex(pop)\n",
    "        for j in i+1:length(pop)\n",
    "            if pop[i].origin == pop[j].origin\n",
    "                push!(pop[i].contacts, pop[j])\n",
    "                push!(pop[j].contacts, pop[i])\n",
    "            end\n",
    "        end\n",
    "        for i in lenght(pop)\n",
    "        pop[i].residence == rand(num_countries)\n",
    "        end\n",
    "    end\n",
    "    pop\n",
    "end\n",
    "setup_pop()= setup_pop(0,0) #no one exists, no countries. Basically Pangaea.\n",
    "setup_pop(N) = setup_pop(0,0)"
   ]
  },
  {
   "cell_type": "code",
   "execution_count": 13,
   "metadata": {},
   "outputs": [
    {
     "data": {
      "text/plain": [
       "setup_sim (generic function with 1 method)"
      ]
     },
     "execution_count": 13,
     "metadata": {},
     "output_type": "execute_result"
    }
   ],
   "source": [
    "function  setup_sim(;commr, N, num_jobs, num_industries, num_countries, seed)\n",
    "    # for reproducibility\n",
    "    Random.seed!(seed)\n",
    "\n",
    "    # create a population of agents\n",
    "    pop = setup_pop(N)\n",
    "    \n",
    "    # create our countries\n",
    "    # within each country a number of industries are created\n",
    "    countries = setup_countries(num_countries, num_industries, num_jobs, MIGR, HIRER, FIRER)\n",
    "    @assert countries != nothing\n",
    "    \n",
    "    # create a population of agents\n",
    "    pop = setup_pop(N, countries) #should we change setup_pop coherently to work with countires..right?\n",
    "    pop = pop_to_countries(pop, countries)\n",
    "\n",
    "    # create a simulation object with parameter values\n",
    "    sim = Simulation(countries, commr, pop)\n",
    "\n",
    "end"
   ]
  },
  {
   "cell_type": "code",
   "execution_count": 14,
   "metadata": {},
   "outputs": [
    {
     "data": {
      "text/html": [
       "<table class=\"data-frame\"><thead><tr><th></th><th>status</th><th>country</th><th>employed</th><th>industry</th></tr><tr><th></th><th>Any</th><th>Any</th><th>Any</th><th>Any</th></tr></thead><tbody><p>0 rows × 4 columns</p></tbody></table>"
      ],
      "text/latex": [
       "\\begin{tabular}{r|cccc}\n",
       "\t& status & country & employed & industry\\\\\n",
       "\t\\hline\n",
       "\t& Any & Any & Any & Any\\\\\n",
       "\t\\hline\n",
       "\\end{tabular}\n"
      ],
      "text/plain": [
       "\u001b[1m0×4 DataFrame\u001b[0m"
      ]
     },
     "execution_count": 14,
     "metadata": {},
     "output_type": "execute_result"
    }
   ],
   "source": [
    "output = DataFrame(status = [], country = [],employed = [], industry=[])"
   ]
  },
  {
   "cell_type": "code",
   "execution_count": 15,
   "metadata": {},
   "outputs": [
    {
     "data": {
      "text/plain": [
       "run_sim (generic function with 2 methods)"
      ]
     },
     "execution_count": 15,
     "metadata": {},
     "output_type": "execute_result"
    }
   ],
   "source": [
    "function run_sim(sim, n_steps, verbose = true)\n",
    "    # we keep track of the numbers\n",
    "#     n_non_migrants = Int[]\n",
    "#     n_migrants = Int[]\n",
    "    # add dataframe for unemployed, employed, industry, etc.\n",
    "    # could use an array of arrays, depends on what we want to plot\n",
    "    # for the google\n",
    "    # could also produce data files as outputs\n",
    "    # arg = open(file_name, 'w')\n",
    "    # println(arg, stuff-to-write)\n",
    "    # within notebook, open file.jl\n",
    "    # use f'n include(), which reads julia code and executes\n",
    "    # run f'n w/ a couple args, get the data\n",
    "    # use notebook for displaying results\n",
    "\n",
    "    # simulation steps\n",
    "    for t in 1:n_steps\n",
    "        update_migrants!(sim)\n",
    "#         push!(n_migrants, count(p -> p.migrant == true, sim.pop))\n",
    "#         push!(n_non_migrants, count(p -> p.migrant == false, sim.pop))\n",
    "        for p in pop\n",
    "            push!(output, (pop[p].migrant, pop[p].residence,pop[p].employed, pop[p].industry))\n",
    "        # a bit of output\n",
    "        if verbose\n",
    "            println(t, \", \", n_migrants[end], \", \", n_non_migrants[end])\n",
    "            end\n",
    "        end\n",
    "    end\n",
    "       \n",
    "    # return the results (normalized by pop size)\n",
    "    n = length(sim.pop)\n",
    "    n_migrants./n, n_non_migrants./n\n",
    "end"
   ]
  },
  {
   "cell_type": "code",
   "execution_count": 16,
   "metadata": {},
   "outputs": [
    {
     "ename": "LoadError",
     "evalue": "UndefVarError: lenght not defined",
     "output_type": "error",
     "traceback": [
      "UndefVarError: lenght not defined",
      "",
      "Stacktrace:",
      " [1] setup_pop(::Int64, ::Array{Country,1}) at .\\In[12]:16",
      " [2] setup_sim(; commr::Float64, N::Int64, num_jobs::Int64, num_industries::Int64, num_countries::Int64, seed::Int64) at .\\In[13]:14",
      " [3] top-level scope at In[16]:5",
      " [4] include_string(::Function, ::Module, ::String, ::String) at .\\loading.jl:1091"
     ]
    }
   ],
   "source": [
    "# setup_sim(;commr, N, num_jobs, num_industries, num_countries, seed)\n",
    "# setup_pop(n, num_countries)\n",
    "\n",
    "\n",
    "sim = setup_sim(commr=0.2, N=1000, num_jobs=800, num_industries=10, num_countries=5, seed=42)\n",
    "migrants, non_migrants = run_sim(sim, 500)\n",
    "CSV.write(\"C:/Users/panze/Desktop/output.csv\", output)\n",
    "# Plots.plot([migrants, non_migrants], labels = [\"Migrants\" \"Non-Migrants\"])"
   ]
  },
  {
   "cell_type": "markdown",
   "metadata": {},
   "source": [
    "#### run"
   ]
  },
  {
   "cell_type": "markdown",
   "metadata": {},
   "source": [
    "FOR PLOT LOOK AT PLOT 0\n",
    "\n",
    "IN RUN FUNCTION CALCULATE AN ARRAY OF NUMBER OF INTERESTS AN PLOT THAT ONE."
   ]
  }
 ],
 "metadata": {
  "kernelspec": {
   "display_name": "Julia 1.5.3",
   "language": "julia",
   "name": "julia-1.5"
  },
  "language_info": {
   "file_extension": ".jl",
   "mimetype": "application/julia",
   "name": "julia",
   "version": "1.5.3"
  }
 },
 "nbformat": 4,
 "nbformat_minor": 4
}
