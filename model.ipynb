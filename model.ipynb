{
 "cells": [
  {
   "cell_type": "markdown",
   "metadata": {},
   "source": [
    "#### include library code"
   ]
  },
  {
   "cell_type": "code",
   "execution_count": null,
   "metadata": {},
   "outputs": [],
   "source": [
    "using Random"
   ]
  },
  {
   "cell_type": "markdown",
   "metadata": {},
   "source": [
    "#### define agents"
   ]
  },
  {
   "cell_type": "code",
   "execution_count": null,
   "metadata": {},
   "outputs": [],
   "source": [
    "mutable struct ComplexHuman\n",
    "    # var :: type\n",
    "    migrant :: Bool\n",
    "    employed :: Bool\n",
    "    industry :: Int\n",
    "    origin :: Country\n",
    "    residence :: Country\n",
    "    contacts :: Vector{ComplexHuman}\n",
    "end"
   ]
  },
  {
   "cell_type": "markdown",
   "metadata": {},
   "source": [
    "#### define countries"
   ]
  },
  {
   "cell_type": "code",
   "execution_count": null,
   "metadata": {},
   "outputs": [],
   "source": [
    "mutable struct Country\n",
    "    # this rate w/ be used in migration decision\n",
    "    migration_rate :: Float64 # or should it be in the simulation structure?\n",
    "    job_market :: Int\n",
    "    industry :: Vector{Industry}\n",
    "end"
   ]
  },
  {
   "cell_type": "markdown",
   "metadata": {},
   "source": [
    "#### define industries and job market"
   ]
  },
  {
   "cell_type": "code",
   "execution_count": null,
   "metadata": {},
   "outputs": [],
   "source": [
    "mutable struct Industry\n",
    "    num_jobs :: Int\n",
    "     # job hire rate\n",
    "    hirer :: Float64\n",
    "    # being fired\n",
    "    firer :: Float64\n",
    "    # communication rate\n",
    "#     commr :: Float64\n",
    "end\n",
    "function Industry() \n",
    "    Industry(0,0,0)\n",
    "end"
   ]
  },
  {
   "cell_type": "markdown",
   "metadata": {},
   "source": [
    "#### define simulation\n",
    "---\n",
    "but I'm not sure it's what we would like to have\n",
    "***\n",
    "Actually I'm quite sure not, but I don't know how to turn *this* into the simulation we'd like to have\n"
   ]
  },
  {
   "cell_type": "code",
   "execution_count": 3,
   "metadata": {},
   "outputs": [],
   "source": [
    "mutable struct Simulation\n",
    "    # model parameters:\n",
    "    industry :: Vector{Industry}\n",
    "    # communication rate\n",
    "    commr :: Float64\n",
    "    # and this is our population of agents\n",
    "    pop :: Vector{ComplexHuman}\n",
    "end"
   ]
  },
  {
   "cell_type": "markdown",
   "metadata": {},
   "source": [
    "#### updating functions"
   ]
  },
  {
   "cell_type": "code",
   "execution_count": null,
   "metadata": {},
   "outputs": [],
   "source": [
    "function update_migrant_status!(person, sim)\n",
    "     if person.migrant == true\n",
    "        return\n",
    "    end\n",
    "    if person.migrant == false\n",
    "        if person.contacts.migrant == true && person.contacts.employed >= \"friends_employment_rate\" && rand() < sim.commr\n",
    "#             ...I'd like to check how many of contacts are employed. if greater then a certain amount THEN\n",
    "            person.migrant == true\n",
    "            person.residence == rand(person.contacts).residence\n",
    "        end\n",
    "    end\n",
    "end\n",
    "\n",
    "\n",
    "\n",
    "function update_migrant_employment!(person, sim)\n",
    "    if person.employed == true\n",
    "        return\n",
    "    end\n",
    "    if person.employed == false\n",
    "        if person.contacts.migrant == true && person.contacts.employed == true && person.contacts.industry # are employed in a certain jobmarket with a rate higher than a certain amount THEN\n",
    "            if rand()< industry.hire.rate # same industry of his friends\n",
    "            person.employed == true\n",
    "            person.industry == rand(person.contacts).industry\n",
    "            end\n",
    "        end\n",
    "    end\n",
    "end\n",
    "\n",
    "function update_pop!(pop, sim)  \n",
    "    for i in pop\n",
    "        update_person!(i)\n",
    "    end\n",
    "end\n",
    "\n",
    "\n",
    "function update_person(agent, sim)\n",
    "    update_migrant_status!(agent, sim)\n",
    "    update_migrant_employment!(agent, sim)\n",
    "end\n",
    "\n",
    "function update_country!()\n",
    "    update_industry!()\n",
    "end\n",
    "\n",
    "\n",
    "## firing function\n",
    "\n",
    "\n",
    "# function update_job_market!(industry, pop)  # needs to be like hey no more jobs --- you can't get these jobs they're gone\n",
    "#     for i in length(pop):\n",
    "#         if pop[i].employed == false\n",
    "#             return\n",
    "#         end\n",
    "#         if pop[i].employed == true\n",
    "#             industry.num_jobs += 1\n",
    "#         end\n",
    "#     end\n",
    "# end"
   ]
  },
  {
   "cell_type": "markdown",
   "metadata": {},
   "source": [
    "#### setup functions"
   ]
  },
  {
   "cell_type": "code",
   "execution_count": null,
   "metadata": {},
   "outputs": [],
   "source": [
    "function setup_industries(n, industry_jobs,glob_hirer, glob_firer, country)\n",
    "    country.industry = [Industry(rand()*industry_jobs,glob_hirer+rand()*0.2-rand()*0.2,glob_firer+rand()*0.2-rand()*0.2 ) for i=1:n ]\n",
    "end\n",
    "\n",
    "function setup_countries(n, ) # change values alike!\n",
    "    sim.country = [Industry(rand()*industry_jobs,glob_hirer+rand()*0.2-rand()*0.2,glob_firer+rand()*0.2-rand()*0.2 ) for i=1:n]\n",
    "    for country in sim.countries\n",
    "        setup_industries(n, industry_jobs,glob_hirer, glob_firer, country)\n",
    "    end\n",
    "end\n",
    "\n",
    "\n",
    "    # go through all combinations of agents and \n",
    "    # check if they are connected\n",
    "    for i in eachindex(pop)\n",
    "        for j in i+1:length(pop)\n",
    "            if rand() < p_contact\n",
    "                push!(pop[i].contacts, pop[j])\n",
    "                push!(pop[j].contacts, pop[i])\n",
    "            end\n",
    "        end\n",
    "    end\n",
    "\n",
    "    pop\n",
    "end"
   ]
  },
  {
   "cell_type": "markdown",
   "metadata": {},
   "source": [
    "#### run"
   ]
  },
  {
   "cell_type": "code",
   "execution_count": null,
   "metadata": {},
   "outputs": [],
   "source": [
    "COLLECT DATA\n",
    "RUN UPDATE FUNCTS\n",
    "\n",
    "\n",
    "function run_sim(sim, n_steps, verbose = false)\n",
    "    # we keep track of the numbers\n",
    "    n_inf = Int[]\n",
    "    n_susc = Int[]\n",
    "\n",
    "    # simulation steps\n",
    "    for t in  1:n_steps\n",
    "        update_agents!(sim)\n",
    "        push!(n_inf, count(p -> p.status == infected, sim.pop))\n",
    "        push!(n_susc, count(p -> p.status == susceptible, sim.pop))\n",
    "        # a bit of output\n",
    "        if verbose\n",
    "            println(t, \", \", n_inf[end], \", \", n_susc[end])\n",
    "        end\n",
    "    end\n",
    "end\n"
   ]
  },
  {
   "cell_type": "markdown",
   "metadata": {},
   "source": [
    "FOR PLOT LOOK AT PLOT 0\n",
    "\n",
    "IN RUN FUNCTION CALCULATE AN ARRAY OF NUMBER OF INTERESTS AN PLOT THAT ONE."
   ]
  }
 ],
 "metadata": {
  "kernelspec": {
   "display_name": "Julia 1.5.2",
   "language": "julia",
   "name": "julia-1.5"
  },
  "language_info": {
   "file_extension": ".jl",
   "mimetype": "application/julia",
   "name": "julia",
   "version": "1.5.2"
  }
 },
 "nbformat": 4,
 "nbformat_minor": 4
}
