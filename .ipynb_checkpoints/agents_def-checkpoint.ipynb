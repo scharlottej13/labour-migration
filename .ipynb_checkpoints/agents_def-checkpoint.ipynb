{
 "cells": [
  {
   "cell_type": "code",
   "execution_count": null,
   "metadata": {},
   "outputs": [],
   "source": [
    "# all possible states a person can be in\n",
    "@enum Status employed unemployed\n",
    "@enum JobSector Sect1 Sect2 Secnt3\n",
    "\n",
    "# this is our agent type\n",
    "mutable struct Immigrant\n",
    "    # state\n",
    "    status :: Status\n",
    "    \n",
    "    # other agents this one can infect or be infected by\n",
    "    contacts :: Vector{SimplePerson}\n",
    "end\n",
    "\n",
    "# how we construct a person object\n",
    "SimplePerson() = SimplePerson(susceptible, [])   # default Person is susceptible and has no contacts\n",
    "SimplePerson(state) = SimplePerson(state, [])  # default Person has no contacts\n",
    "\n",
    "# OR\n",
    "\n",
    "mutable struct Immigrant\n",
    "    status :: Status\n",
    "    network :: String     # struct members should always have an explicit type\n",
    "    job_sector :: String\n",
    "#     employmentstatus :: Bool\n",
    "end"
   ]
  }
 ],
 "metadata": {
  "kernelspec": {
   "display_name": "Julia 1.5.2",
   "language": "julia",
   "name": "julia-1.5"
  },
  "language_info": {
   "file_extension": ".jl",
   "mimetype": "application/julia",
   "name": "julia",
   "version": "1.5.2"
  }
 },
 "nbformat": 4,
 "nbformat_minor": 2
}
